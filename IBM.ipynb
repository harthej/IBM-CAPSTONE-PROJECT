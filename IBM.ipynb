{
 "cells": [
  {
   "cell_type": "markdown",
   "metadata": {
    "collapsed": true
   },
   "source": [
    "# My Jupyter Notebook on IBM Data Science Experience"
   ]
  },
  {
   "cell_type": "markdown",
   "metadata": {},
   "source": [
    "### Division in Python : When you divide in Python 3, your quotient will always be returned as a float, even if you use two integers:"
   ]
  },
  {
   "cell_type": "code",
   "execution_count": 4,
   "metadata": {},
   "outputs": [
    {
     "data": {
      "text/plain": [
       "16.0"
      ]
     },
     "execution_count": 4,
     "metadata": {},
     "output_type": "execute_result"
    }
   ],
   "source": [
    "80/5"
   ]
  },
  {
   "cell_type": "markdown",
   "metadata": {},
   "source": [
    "- This is a Bullet Point\n",
    "\n",
    "Below this line is a Horizontal Rule\n",
    "***\n",
    "\n",
    "7. This is a Numbered List\n",
    "\n",
    "Here is a Sample Markdown Table ->\n",
    "\n",
    "| Name  | Address | Salary |\n",
    "|-------|---------|--------|\n",
    "| Stacy | Sydney  | 500    |\n",
    "\n",
    "\n",
    "[Here is Hyperlink to my GitHub](https://www.github.com/ankit2web)\n",
    "\n",
    "\n",
    "\n",
    "```python\n",
    "# Code & Syntax Highlighting in Python\n",
    "import antigravity\n",
    "```\n",
    "\n",
    "\n",
    "> This is a Blockquote\n"
   ]
  },
  {
   "cell_type": "code",
   "execution_count": null,
   "metadata": {},
   "outputs": [],
   "source": []
  }
 ],
 "metadata": {
  "kernelspec": {
   "display_name": "Python 3 (ipykernel)",
   "language": "python",
   "name": "python3"
  },
  "language_info": {
   "codemirror_mode": {
    "name": "ipython",
    "version": 3
   },
   "file_extension": ".py",
   "mimetype": "text/x-python",
   "name": "python",
   "nbconvert_exporter": "python",
   "pygments_lexer": "ipython3",
   "version": "3.9.12"
  }
 },
 "nbformat": 4,
 "nbformat_minor": 1
}
